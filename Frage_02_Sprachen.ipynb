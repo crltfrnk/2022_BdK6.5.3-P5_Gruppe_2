{
 "cells": [
  {
   "cell_type": "markdown",
   "id": "f8612594",
   "metadata": {},
   "source": [
    "# In wie vielen verschiedenen Sprachen/Sprachkombinationen wurde publiziert?\n",
    "## Welche fünf Sprachen wurden am meisten Verwendet?\n",
    "---"
   ]
  },
  {
   "cell_type": "markdown",
   "id": "95a7e0ef",
   "metadata": {},
   "source": [
    "### In diesem Jupyter Notebook werden die obigen Fragen beantwortet, wobei zuerst die oberste Frage beantwortet und im Anschluss auf die untere Sprache eingegangen wird, welche mehr in die Tiefe der Daten geht. Die Lösung der zweiten Frage wird im zweiten Abschnitt noch einmal grafisch aufgearbeitet und dargestellt. \n",
    "\n",
    "### Die einzelnen Schritte werden dabei in Kommentaren beschrieben, umso ein Verständnis für die Vorgehensweise zu schaffen und für ein gewisses Maß an Reproduzierbarkeit zu schaffen. \n",
    "----"
   ]
  },
  {
   "cell_type": "code",
   "execution_count": 2,
   "id": "a1f9aa0d",
   "metadata": {},
   "outputs": [],
   "source": [
    "import pandas as pd"
   ]
  },
  {
   "cell_type": "code",
   "execution_count": 3,
   "id": "a95616fe",
   "metadata": {},
   "outputs": [],
   "source": [
    "titles_datei = pd.read_csv(\"data/titles.csv\")\n",
    "# Einlesen der CSV Datei"
   ]
  },
  {
   "cell_type": "code",
   "execution_count": 4,
   "id": "7cb8e787",
   "metadata": {},
   "outputs": [],
   "source": [
    "titles_by_language = titles_datei.groupby(\"Languages\").count()\n",
    "# Mit groupby werden die Reihen nach dem Spalteninhalt Language sortiert\n",
    "# und anschließend mit count gezählt wie oft Spalten denselben Inhalt haben"
   ]
  },
  {
   "cell_type": "code",
   "execution_count": 37,
   "id": "aaefb7a6",
   "metadata": {
    "scrolled": true
   },
   "outputs": [
    {
     "data": {
      "text/html": [
       "<div>\n",
       "<style scoped>\n",
       "    .dataframe tbody tr th:only-of-type {\n",
       "        vertical-align: middle;\n",
       "    }\n",
       "\n",
       "    .dataframe tbody tr th {\n",
       "        vertical-align: top;\n",
       "    }\n",
       "\n",
       "    .dataframe thead th {\n",
       "        text-align: right;\n",
       "    }\n",
       "</style>\n",
       "<table border=\"1\" class=\"dataframe\">\n",
       "  <thead>\n",
       "    <tr style=\"text-align: right;\">\n",
       "      <th></th>\n",
       "      <th>Title</th>\n",
       "      <th>Other titles</th>\n",
       "      <th>BL record ID</th>\n",
       "      <th>Type of resource</th>\n",
       "      <th>Content type</th>\n",
       "      <th>Material type</th>\n",
       "      <th>BNB number</th>\n",
       "      <th>Archival Resource Key</th>\n",
       "      <th>ISBN</th>\n",
       "      <th>Name</th>\n",
       "      <th>...</th>\n",
       "      <th>Publisher</th>\n",
       "      <th>Date of creation/publication</th>\n",
       "      <th>Edition</th>\n",
       "      <th>Physical description</th>\n",
       "      <th>Dewey classification</th>\n",
       "      <th>BL shelfmark</th>\n",
       "      <th>Topics</th>\n",
       "      <th>Genre</th>\n",
       "      <th>Notes</th>\n",
       "      <th>Provenance</th>\n",
       "    </tr>\n",
       "    <tr>\n",
       "      <th>Languages</th>\n",
       "      <th></th>\n",
       "      <th></th>\n",
       "      <th></th>\n",
       "      <th></th>\n",
       "      <th></th>\n",
       "      <th></th>\n",
       "      <th></th>\n",
       "      <th></th>\n",
       "      <th></th>\n",
       "      <th></th>\n",
       "      <th></th>\n",
       "      <th></th>\n",
       "      <th></th>\n",
       "      <th></th>\n",
       "      <th></th>\n",
       "      <th></th>\n",
       "      <th></th>\n",
       "      <th></th>\n",
       "      <th></th>\n",
       "      <th></th>\n",
       "      <th></th>\n",
       "    </tr>\n",
       "  </thead>\n",
       "  <tbody>\n",
       "    <tr>\n",
       "      <th>Afrikaans</th>\n",
       "      <td>2</td>\n",
       "      <td>2</td>\n",
       "      <td>2</td>\n",
       "      <td>2</td>\n",
       "      <td>2</td>\n",
       "      <td>2</td>\n",
       "      <td>0</td>\n",
       "      <td>0</td>\n",
       "      <td>0</td>\n",
       "      <td>2</td>\n",
       "      <td>...</td>\n",
       "      <td>2</td>\n",
       "      <td>2</td>\n",
       "      <td>0</td>\n",
       "      <td>2</td>\n",
       "      <td>0</td>\n",
       "      <td>2</td>\n",
       "      <td>0</td>\n",
       "      <td>0</td>\n",
       "      <td>0</td>\n",
       "      <td>0</td>\n",
       "    </tr>\n",
       "    <tr>\n",
       "      <th>Altai</th>\n",
       "      <td>5</td>\n",
       "      <td>5</td>\n",
       "      <td>5</td>\n",
       "      <td>5</td>\n",
       "      <td>5</td>\n",
       "      <td>5</td>\n",
       "      <td>5</td>\n",
       "      <td>0</td>\n",
       "      <td>5</td>\n",
       "      <td>5</td>\n",
       "      <td>...</td>\n",
       "      <td>5</td>\n",
       "      <td>5</td>\n",
       "      <td>0</td>\n",
       "      <td>5</td>\n",
       "      <td>5</td>\n",
       "      <td>0</td>\n",
       "      <td>5</td>\n",
       "      <td>5</td>\n",
       "      <td>5</td>\n",
       "      <td>0</td>\n",
       "    </tr>\n",
       "    <tr>\n",
       "      <th>Altaic languages</th>\n",
       "      <td>2</td>\n",
       "      <td>2</td>\n",
       "      <td>2</td>\n",
       "      <td>2</td>\n",
       "      <td>2</td>\n",
       "      <td>2</td>\n",
       "      <td>2</td>\n",
       "      <td>0</td>\n",
       "      <td>2</td>\n",
       "      <td>2</td>\n",
       "      <td>...</td>\n",
       "      <td>2</td>\n",
       "      <td>2</td>\n",
       "      <td>0</td>\n",
       "      <td>2</td>\n",
       "      <td>2</td>\n",
       "      <td>0</td>\n",
       "      <td>2</td>\n",
       "      <td>2</td>\n",
       "      <td>2</td>\n",
       "      <td>0</td>\n",
       "    </tr>\n",
       "    <tr>\n",
       "      <th>Altaic languages ; English</th>\n",
       "      <td>2</td>\n",
       "      <td>2</td>\n",
       "      <td>2</td>\n",
       "      <td>2</td>\n",
       "      <td>2</td>\n",
       "      <td>2</td>\n",
       "      <td>2</td>\n",
       "      <td>0</td>\n",
       "      <td>2</td>\n",
       "      <td>2</td>\n",
       "      <td>...</td>\n",
       "      <td>2</td>\n",
       "      <td>2</td>\n",
       "      <td>0</td>\n",
       "      <td>2</td>\n",
       "      <td>2</td>\n",
       "      <td>0</td>\n",
       "      <td>2</td>\n",
       "      <td>2</td>\n",
       "      <td>0</td>\n",
       "      <td>0</td>\n",
       "    </tr>\n",
       "    <tr>\n",
       "      <th>Aromanian</th>\n",
       "      <td>2</td>\n",
       "      <td>2</td>\n",
       "      <td>2</td>\n",
       "      <td>2</td>\n",
       "      <td>2</td>\n",
       "      <td>2</td>\n",
       "      <td>2</td>\n",
       "      <td>0</td>\n",
       "      <td>2</td>\n",
       "      <td>2</td>\n",
       "      <td>...</td>\n",
       "      <td>2</td>\n",
       "      <td>2</td>\n",
       "      <td>2</td>\n",
       "      <td>2</td>\n",
       "      <td>2</td>\n",
       "      <td>0</td>\n",
       "      <td>2</td>\n",
       "      <td>2</td>\n",
       "      <td>2</td>\n",
       "      <td>0</td>\n",
       "    </tr>\n",
       "    <tr>\n",
       "      <th>...</th>\n",
       "      <td>...</td>\n",
       "      <td>...</td>\n",
       "      <td>...</td>\n",
       "      <td>...</td>\n",
       "      <td>...</td>\n",
       "      <td>...</td>\n",
       "      <td>...</td>\n",
       "      <td>...</td>\n",
       "      <td>...</td>\n",
       "      <td>...</td>\n",
       "      <td>...</td>\n",
       "      <td>...</td>\n",
       "      <td>...</td>\n",
       "      <td>...</td>\n",
       "      <td>...</td>\n",
       "      <td>...</td>\n",
       "      <td>...</td>\n",
       "      <td>...</td>\n",
       "      <td>...</td>\n",
       "      <td>...</td>\n",
       "      <td>...</td>\n",
       "    </tr>\n",
       "    <tr>\n",
       "      <th>Tsonga</th>\n",
       "      <td>2</td>\n",
       "      <td>2</td>\n",
       "      <td>2</td>\n",
       "      <td>2</td>\n",
       "      <td>2</td>\n",
       "      <td>2</td>\n",
       "      <td>2</td>\n",
       "      <td>0</td>\n",
       "      <td>2</td>\n",
       "      <td>2</td>\n",
       "      <td>...</td>\n",
       "      <td>2</td>\n",
       "      <td>2</td>\n",
       "      <td>0</td>\n",
       "      <td>2</td>\n",
       "      <td>2</td>\n",
       "      <td>0</td>\n",
       "      <td>2</td>\n",
       "      <td>2</td>\n",
       "      <td>2</td>\n",
       "      <td>0</td>\n",
       "    </tr>\n",
       "    <tr>\n",
       "      <th>Welsh</th>\n",
       "      <td>10</td>\n",
       "      <td>10</td>\n",
       "      <td>10</td>\n",
       "      <td>10</td>\n",
       "      <td>10</td>\n",
       "      <td>10</td>\n",
       "      <td>10</td>\n",
       "      <td>0</td>\n",
       "      <td>8</td>\n",
       "      <td>10</td>\n",
       "      <td>...</td>\n",
       "      <td>10</td>\n",
       "      <td>10</td>\n",
       "      <td>2</td>\n",
       "      <td>10</td>\n",
       "      <td>10</td>\n",
       "      <td>10</td>\n",
       "      <td>8</td>\n",
       "      <td>2</td>\n",
       "      <td>0</td>\n",
       "      <td>0</td>\n",
       "    </tr>\n",
       "    <tr>\n",
       "      <th>Western Frisian</th>\n",
       "      <td>2</td>\n",
       "      <td>2</td>\n",
       "      <td>2</td>\n",
       "      <td>2</td>\n",
       "      <td>2</td>\n",
       "      <td>2</td>\n",
       "      <td>0</td>\n",
       "      <td>0</td>\n",
       "      <td>0</td>\n",
       "      <td>2</td>\n",
       "      <td>...</td>\n",
       "      <td>0</td>\n",
       "      <td>2</td>\n",
       "      <td>0</td>\n",
       "      <td>2</td>\n",
       "      <td>0</td>\n",
       "      <td>2</td>\n",
       "      <td>0</td>\n",
       "      <td>0</td>\n",
       "      <td>2</td>\n",
       "      <td>0</td>\n",
       "    </tr>\n",
       "    <tr>\n",
       "      <th>Yiddish</th>\n",
       "      <td>2</td>\n",
       "      <td>2</td>\n",
       "      <td>2</td>\n",
       "      <td>2</td>\n",
       "      <td>2</td>\n",
       "      <td>2</td>\n",
       "      <td>2</td>\n",
       "      <td>0</td>\n",
       "      <td>2</td>\n",
       "      <td>2</td>\n",
       "      <td>...</td>\n",
       "      <td>2</td>\n",
       "      <td>2</td>\n",
       "      <td>2</td>\n",
       "      <td>2</td>\n",
       "      <td>2</td>\n",
       "      <td>0</td>\n",
       "      <td>2</td>\n",
       "      <td>2</td>\n",
       "      <td>2</td>\n",
       "      <td>0</td>\n",
       "    </tr>\n",
       "    <tr>\n",
       "      <th>Zulu</th>\n",
       "      <td>2</td>\n",
       "      <td>2</td>\n",
       "      <td>2</td>\n",
       "      <td>2</td>\n",
       "      <td>2</td>\n",
       "      <td>2</td>\n",
       "      <td>2</td>\n",
       "      <td>0</td>\n",
       "      <td>2</td>\n",
       "      <td>2</td>\n",
       "      <td>...</td>\n",
       "      <td>2</td>\n",
       "      <td>2</td>\n",
       "      <td>0</td>\n",
       "      <td>2</td>\n",
       "      <td>2</td>\n",
       "      <td>0</td>\n",
       "      <td>2</td>\n",
       "      <td>2</td>\n",
       "      <td>2</td>\n",
       "      <td>0</td>\n",
       "    </tr>\n",
       "  </tbody>\n",
       "</table>\n",
       "<p>96 rows × 28 columns</p>\n",
       "</div>"
      ],
      "text/plain": [
       "                            Title  Other titles  BL record ID  \\\n",
       "Languages                                                       \n",
       "Afrikaans                       2             2             2   \n",
       "Altai                           5             5             5   \n",
       "Altaic languages                2             2             2   \n",
       "Altaic languages ; English      2             2             2   \n",
       "Aromanian                       2             2             2   \n",
       "...                           ...           ...           ...   \n",
       "Tsonga                          2             2             2   \n",
       "Welsh                          10            10            10   \n",
       "Western Frisian                 2             2             2   \n",
       "Yiddish                         2             2             2   \n",
       "Zulu                            2             2             2   \n",
       "\n",
       "                            Type of resource  Content type  Material type  \\\n",
       "Languages                                                                   \n",
       "Afrikaans                                  2             2              2   \n",
       "Altai                                      5             5              5   \n",
       "Altaic languages                           2             2              2   \n",
       "Altaic languages ; English                 2             2              2   \n",
       "Aromanian                                  2             2              2   \n",
       "...                                      ...           ...            ...   \n",
       "Tsonga                                     2             2              2   \n",
       "Welsh                                     10            10             10   \n",
       "Western Frisian                            2             2              2   \n",
       "Yiddish                                    2             2              2   \n",
       "Zulu                                       2             2              2   \n",
       "\n",
       "                            BNB number  Archival Resource Key  ISBN  Name  \\\n",
       "Languages                                                                   \n",
       "Afrikaans                            0                      0     0     2   \n",
       "Altai                                5                      0     5     5   \n",
       "Altaic languages                     2                      0     2     2   \n",
       "Altaic languages ; English           2                      0     2     2   \n",
       "Aromanian                            2                      0     2     2   \n",
       "...                                ...                    ...   ...   ...   \n",
       "Tsonga                               2                      0     2     2   \n",
       "Welsh                               10                      0     8    10   \n",
       "Western Frisian                      0                      0     0     2   \n",
       "Yiddish                              2                      0     2     2   \n",
       "Zulu                                 2                      0     2     2   \n",
       "\n",
       "                            ...  Publisher  Date of creation/publication  \\\n",
       "Languages                   ...                                            \n",
       "Afrikaans                   ...          2                             2   \n",
       "Altai                       ...          5                             5   \n",
       "Altaic languages            ...          2                             2   \n",
       "Altaic languages ; English  ...          2                             2   \n",
       "Aromanian                   ...          2                             2   \n",
       "...                         ...        ...                           ...   \n",
       "Tsonga                      ...          2                             2   \n",
       "Welsh                       ...         10                            10   \n",
       "Western Frisian             ...          0                             2   \n",
       "Yiddish                     ...          2                             2   \n",
       "Zulu                        ...          2                             2   \n",
       "\n",
       "                            Edition  Physical description  \\\n",
       "Languages                                                   \n",
       "Afrikaans                         0                     2   \n",
       "Altai                             0                     5   \n",
       "Altaic languages                  0                     2   \n",
       "Altaic languages ; English        0                     2   \n",
       "Aromanian                         2                     2   \n",
       "...                             ...                   ...   \n",
       "Tsonga                            0                     2   \n",
       "Welsh                             2                    10   \n",
       "Western Frisian                   0                     2   \n",
       "Yiddish                           2                     2   \n",
       "Zulu                              0                     2   \n",
       "\n",
       "                            Dewey classification  BL shelfmark  Topics  Genre  \\\n",
       "Languages                                                                       \n",
       "Afrikaans                                      0             2       0      0   \n",
       "Altai                                          5             0       5      5   \n",
       "Altaic languages                               2             0       2      2   \n",
       "Altaic languages ; English                     2             0       2      2   \n",
       "Aromanian                                      2             0       2      2   \n",
       "...                                          ...           ...     ...    ...   \n",
       "Tsonga                                         2             0       2      2   \n",
       "Welsh                                         10            10       8      2   \n",
       "Western Frisian                                0             2       0      0   \n",
       "Yiddish                                        2             0       2      2   \n",
       "Zulu                                           2             0       2      2   \n",
       "\n",
       "                            Notes  Provenance  \n",
       "Languages                                      \n",
       "Afrikaans                       0           0  \n",
       "Altai                           5           0  \n",
       "Altaic languages                2           0  \n",
       "Altaic languages ; English      0           0  \n",
       "Aromanian                       2           0  \n",
       "...                           ...         ...  \n",
       "Tsonga                          2           0  \n",
       "Welsh                           0           0  \n",
       "Western Frisian                 2           0  \n",
       "Yiddish                         2           0  \n",
       "Zulu                            2           0  \n",
       "\n",
       "[96 rows x 28 columns]"
      ]
     },
     "execution_count": 37,
     "metadata": {},
     "output_type": "execute_result"
    }
   ],
   "source": [
    "titles_by_language"
   ]
  },
  {
   "cell_type": "code",
   "execution_count": 39,
   "id": "b55e9e80",
   "metadata": {},
   "outputs": [
    {
     "data": {
      "text/plain": [
       "96"
      ]
     },
     "execution_count": 39,
     "metadata": {},
     "output_type": "execute_result"
    }
   ],
   "source": [
    "titles_by_language[\"Title\"].count()"
   ]
  },
  {
   "cell_type": "code",
   "execution_count": 41,
   "id": "4762c607",
   "metadata": {},
   "outputs": [
    {
     "name": "stdout",
     "output_type": "stream",
     "text": [
      "Es gibt 96 verschiedene Sprachen.\n"
     ]
    }
   ],
   "source": [
    "print(\"Es gibt\", titles_by_language[\"Title\"].count(), \"verschiedene Sprachen.\")"
   ]
  },
  {
   "cell_type": "code",
   "execution_count": 6,
   "id": "f735b855",
   "metadata": {
    "scrolled": true
   },
   "outputs": [
    {
     "data": {
      "text/plain": [
       "Index(['Afrikaans', 'Altai', 'Altaic languages', 'Altaic languages ; English',\n",
       "       'Aromanian', 'Artificial languages', 'Artificial languages ; English',\n",
       "       'Bashkir', 'Belarusian', 'Bengali', 'Bulgarian', 'Catalan', 'Cornish',\n",
       "       'Cornish ; English', 'Creoles and pidgins, English based', 'Croatian',\n",
       "       'Czech', 'Danish', 'Danish ; English ; French ; Italian ; Latin',\n",
       "       'Dutch', 'English', 'English ; English, Old (ca. 450-1100)',\n",
       "       'English ; Esperanto', 'English ; French', 'English ; French ; German',\n",
       "       'English ; French ; German ; Italian',\n",
       "       'English ; French ; German ; Japanese ; Russian',\n",
       "       'English ; French ; German ; Russian', 'English ; French ; Italian',\n",
       "       'English ; French ; Romansh', 'English ; French ; Walloon',\n",
       "       'English ; German', 'English ; German ; Spanish', 'English ; Gothic',\n",
       "       'English ; Hawaiian', 'English ; Hungarian', 'English ; Latin',\n",
       "       'English ; Neapolitan', 'English ; Papuan languages',\n",
       "       'English ; Russian', 'English ; Samoan', 'English ; Scots',\n",
       "       'English ; Spanish', 'English ; Welsh', 'English ; Yiddish',\n",
       "       'Esperanto', 'Finnish', 'French', 'French, Old (ca. 842-1300)',\n",
       "       'Gaelic', 'Georgian', 'German', 'Hawaiian', 'Hungarian', 'Icelandic',\n",
       "       'Ido', 'Irish', 'Italian', 'Japanese', 'Kabardian', 'Karachay-Balkar',\n",
       "       'Kazakh', 'Kirghiz', 'Komi', 'Ladino', 'Latin', 'Latvian', 'Low German',\n",
       "       'Macedonian', 'Manx', 'Maori', 'Neapolitan', 'North Ndebele',\n",
       "       'Norwegian', 'Persian', 'Polish', 'Portuguese', 'Romanian', 'Romansh',\n",
       "       'Romany', 'Russian', 'Scots', 'Shona', 'Slovak', 'Slovenian', 'Spanish',\n",
       "       'Swahili', 'Swedish', 'Syriac', 'Telugu', 'Tongan', 'Tsonga', 'Welsh',\n",
       "       'Western Frisian', 'Yiddish', 'Zulu'],\n",
       "      dtype='object', name='Languages')"
      ]
     },
     "execution_count": 6,
     "metadata": {},
     "output_type": "execute_result"
    }
   ],
   "source": [
    "titles_by_language.index\n",
    "# Duplikationen und mögliche Sprachkombinationen herausfinden"
   ]
  },
  {
   "cell_type": "code",
   "execution_count": 7,
   "id": "f2cebd61",
   "metadata": {
    "scrolled": true
   },
   "outputs": [
    {
     "data": {
      "text/plain": [
       "array(['Portuguese', 'English', nan, 'English ; Samoan', 'Kazakh',\n",
       "       'Danish ; English ; French ; Italian ; Latin',\n",
       "       'English ; French ; German', 'Scots', 'English ; Scots', 'Polish',\n",
       "       'French', 'Czech', 'Belarusian', 'Slovak', 'Bulgarian',\n",
       "       'Slovenian', 'Russian', 'English ; French', 'Afrikaans', 'Italian',\n",
       "       'Swedish', 'Danish', 'English ; German ; Spanish', 'German',\n",
       "       'Dutch', 'Neapolitan', 'Telugu', 'Shona', 'Western Frisian',\n",
       "       'Low German', 'English ; Russian', 'Altai', 'Bashkir',\n",
       "       'Altaic languages ; English', 'Kirghiz', 'Altaic languages',\n",
       "       'Kabardian', 'English ; French ; German ; Russian', 'Spanish',\n",
       "       'English ; Spanish', 'Yiddish', 'English ; Papuan languages',\n",
       "       'Welsh', 'Cornish ; English', 'English ; German', 'Ido',\n",
       "       'English ; French ; German ; Japanese ; Russian', 'Aromanian',\n",
       "       'Bengali', 'Catalan', 'Cornish', 'Persian', 'Esperanto', 'Finnish',\n",
       "       'Georgian', 'English ; Gothic', 'Hawaiian', 'English ; Hawaiian',\n",
       "       'Hungarian', 'English ; Hungarian', 'Icelandic', 'Irish',\n",
       "       'Creoles and pidgins, English based', 'Japanese', 'Romansh',\n",
       "       'Karachay-Balkar', 'Komi', 'Ladino', 'Latvian', 'Latin',\n",
       "       'English ; Latin', 'Artificial languages ; English',\n",
       "       'Artificial languages', 'Macedonian', 'Manx', 'Maori', 'Romanian',\n",
       "       'North Ndebele', 'Norwegian',\n",
       "       'English ; English, Old (ca. 450-1100)',\n",
       "       'French, Old (ca. 842-1300)', 'English ; French ; Romansh',\n",
       "       'Gaelic', 'Syriac', 'Swahili', 'Tongan', 'Tsonga',\n",
       "       'English ; French ; Walloon', 'English ; Yiddish', 'Zulu',\n",
       "       'Croatian', 'English ; Neapolitan', 'English ; Welsh',\n",
       "       'English ; French ; Italian',\n",
       "       'English ; French ; German ; Italian', 'Romany',\n",
       "       'English ; Esperanto'], dtype=object)"
      ]
     },
     "execution_count": 7,
     "metadata": {},
     "output_type": "execute_result"
    }
   ],
   "source": [
    "titles_datei[\"Languages\"].unique()\n",
    "# Mögliche Duplikationen von Sprachen rausnehmen\n",
    "# Festgestellt, dass wir auch anders an die Liste der Sprachen kommen"
   ]
  },
  {
   "cell_type": "markdown",
   "id": "a0b4c945",
   "metadata": {},
   "source": [
    "## Fünf meist genutze Sprachen"
   ]
  },
  {
   "cell_type": "code",
   "execution_count": 11,
   "id": "061bcbf4",
   "metadata": {},
   "outputs": [
    {
     "data": {
      "text/plain": [
       "English    2720\n",
       "French      105\n",
       "Russian      63\n",
       "Spanish      43\n",
       "German       31\n",
       "Name: Languages, dtype: int64"
      ]
     },
     "execution_count": 11,
     "metadata": {},
     "output_type": "execute_result"
    }
   ],
   "source": [
    "titles_datei[\"Languages\"].value_counts().head(5)\n",
    "\n",
    "# Wie viele Einträge pro Sprache es gibt (ahand der Funktion value.count())\n",
    "# diese werden absteigend ausgegeben\n",
    "# durch head(5) wird die Ausgabe auf die obersten 5 beschränkt\n"
   ]
  },
  {
   "cell_type": "markdown",
   "id": "df712c88",
   "metadata": {},
   "source": [
    "### Anhand der vorherigen Ausgabe wird ersichtlich, welche die fünf meisten verwendeten Sprachen sind. \n",
    "\n",
    "----"
   ]
  },
  {
   "cell_type": "markdown",
   "id": "b179be1c",
   "metadata": {},
   "source": [
    "---\n",
    "# Grafische Darstellung der Lösung\n",
    "----"
   ]
  },
  {
   "cell_type": "code",
   "execution_count": 12,
   "id": "a20bc1ea",
   "metadata": {
    "scrolled": true
   },
   "outputs": [
    {
     "data": {
      "text/plain": [
       "<AxesSubplot:>"
      ]
     },
     "execution_count": 12,
     "metadata": {},
     "output_type": "execute_result"
    },
    {
     "data": {
      "image/png": "[encoded data removed]",
      "text/plain": [
       "<Figure size 432x288 with 1 Axes>"
      ]
     },
     "metadata": {
      "needs_background": "light"
     },
     "output_type": "display_data"
    }
   ],
   "source": [
    "titles_datei[\"Languages\"].value_counts().head(5).plot.barh()\n",
    "# Darstellung in einem Bar-Charts, Werte liegen sehr weit auseinander, andere Darstellung möglicherweise besser."
   ]
  },
  {
   "cell_type": "code",
   "execution_count": 13,
   "id": "5d527060",
   "metadata": {},
   "outputs": [
    {
     "data": {
      "text/plain": [
       "<AxesSubplot:ylabel='Languages'>"
      ]
     },
     "execution_count": 13,
     "metadata": {},
     "output_type": "execute_result"
    },
    {
     "data": {
      "image/png": "[encoded data removed]",
      "text/plain": [
       "<Figure size 648x648 with 1 Axes>"
      ]
     },
     "metadata": {},
     "output_type": "display_data"
    }
   ],
   "source": [
    "titles_datei[\"Languages\"].value_counts().head().plot.pie(figsize=(9, 9), legend=True, autopct='%1.0f%%')\n",
    "# Pie-Chart zur besseren Darstellung, da die anderen Sprachen besser zur Geltung kommen"
   ]
  },
  {
   "cell_type": "code",
   "execution_count": null,
   "id": "95888a0b",
   "metadata": {},
   "outputs": [],
   "source": []
  }
 ],
 "metadata": {
  "kernelspec": {
   "display_name": "Python 3 (ipykernel)",
   "language": "python",
   "name": "python3"
  },
  "language_info": {
   "codemirror_mode": {
    "name": "ipython",
    "version": 3
   },
   "file_extension": ".py",
   "mimetype": "text/x-python",
   "name": "python",
   "nbconvert_exporter": "python",
   "pygments_lexer": "ipython3",
   "version": "3.9.7"
  }
 },
 "nbformat": 4,
 "nbformat_minor": 5
}
